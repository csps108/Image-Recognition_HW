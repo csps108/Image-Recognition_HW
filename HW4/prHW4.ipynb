{
 "cells": [
  {
   "cell_type": "code",
   "execution_count": 1,
   "metadata": {},
   "outputs": [],
   "source": [
    "import numpy as np\n",
    "import pandas as pd\n",
    "import random"
   ]
  },
  {
   "cell_type": "code",
   "execution_count": 2,
   "metadata": {},
   "outputs": [],
   "source": [
    "name=['label','f1','f2','f3','f4','f5','f6','f7','f8','f9','f10','f11','f12','f13']\n",
    "data=pd.read_csv('D:/圖形識別/HW1/wine.data',names=name)"
   ]
  },
  {
   "cell_type": "code",
   "execution_count": 3,
   "metadata": {},
   "outputs": [],
   "source": [
    "df = data.iloc[:, 1:14]\n",
    "df=np.mat(df)"
   ]
  },
  {
   "cell_type": "code",
   "execution_count": 4,
   "metadata": {},
   "outputs": [],
   "source": [
    "def initoutputlayer(n , m , d):\n",
    "    array = np.random.rand(d,n*m)\n",
    "    return array\n",
    "\n",
    "def normalize_x(x):\n",
    "    N, D = x.shape\n",
    "    for i in range(N):\n",
    "        temp = np.sum(np.multiply(x[i], x[i]))\n",
    "        x[i] /= np.sqrt(temp) \n",
    "    return x \n",
    "def normalize_weight(weight):\n",
    "    for i in range(weight.shape[1]):\n",
    "        t = np.sum(np.multiply(weight[:,i], weight[:,i]))\n",
    "        weight[:, i] /= np.sqrt(t)\n",
    "    return weight"
   ]
  },
  {
   "cell_type": "code",
   "execution_count": 5,
   "metadata": {},
   "outputs": [],
   "source": [
    "def update_weight(dataset, time, T ,winner,n,m,Oweight):\n",
    "    a=min(n,m)\n",
    "    N = int(a-float(a)*time/T)\n",
    "    for x, i in enumerate(winner):\n",
    "        to_up = getneighbor(i[0], N,n,m)\n",
    "        for j in range(N+1):\n",
    "            e = np.power(np.e, -j)/(time+2)\n",
    "            for w in to_up[j]:\n",
    "                Oweight[:, w]=np.add(Oweight[:,w],e*(dataset[x,:]-Oweight[:,w]))\n",
    "                \n",
    "def getWinner(dataset,Iweight,T,b,n,m):\n",
    "    c=0\n",
    "    while T>c:\n",
    "        train_x=dataset[np.random.choice(dataset.shape[0], b)]\n",
    "        normalize_weight(Iweight)\n",
    "        normalize_x(train_x)\n",
    "        train_y = train_x.dot(Iweight)\n",
    "        winner = np.argmax(train_y, axis=1).tolist()\n",
    "        update_weight(train_x, c, T, winner,n,m,Iweight)\n",
    "        c += 1\n",
    "    print('Iweight shape:',Iweight[0].shape)\n",
    "    print('Iweight:',Iweight[0])\n",
    "    print('trainy len:',(train_y[0].shape))\n",
    "    print('train y:',train_y[0])\n",
    "    return Iweight\n",
    "def distence(d1, d2,n,m):\n",
    "    d1_n, d1_m = d1 // n, d1 % m\n",
    "    d2_n, d2_m = d2 // n, d2 % m\n",
    "    D11=np.abs(d1_n - d2_n)\n",
    "    D22=np.abs(d1_m - d2_m)\n",
    "    return D11, D22\n",
    "def getneighbor(index,N,n,m):\n",
    "    length = n*m\n",
    "    a = [set() for i in range(N+1)]\n",
    "    for i in range(length):\n",
    "        dist_a, dist_b = distence(i, index,n,m)\n",
    "        if dist_a <= N and dist_b <= N: \n",
    "            a[max(dist_a, dist_b)].add(i)\n",
    "    return a\n",
    "def result(x,Iweight):\n",
    "    normalize_x(x)\n",
    "    train_y = x.dot(Iweight)\n",
    "    winner = np.argmax(train_y, axis=1).tolist()\n",
    "    #print ('winner ',winner)\n",
    "    return winner"
   ]
  },
  {
   "cell_type": "code",
   "execution_count": 6,
   "metadata": {},
   "outputs": [],
   "source": [
    "def Kohonen(dataset,n,m,T,N_neibor):\n",
    "    dataSet = normalize_x(dataset)\n",
    "    Iweight = initoutputlayer(n,m,dataSet.shape[1])\n",
    "    getWinner(df,Iweight,T,N_neibor,n,m)\n",
    "    res=result(dataSet,Iweight)\n",
    "    print('Iweight length:',len(Iweight))\n",
    "    return res"
   ]
  },
  {
   "cell_type": "code",
   "execution_count": 7,
   "metadata": {},
   "outputs": [
    {
     "name": "stdout",
     "output_type": "stream",
     "text": [
      "Iweight shape: (3,)\n",
      "Iweight: [0.01941777 0.01941148 0.01940777]\n",
      "trainy len: (1, 3)\n",
      "train y: [[0.99998401 0.999984   0.99998401]]\n",
      "Iweight length: 13\n"
     ]
    }
   ],
   "source": [
    "res=Kohonen(df,3,1,30,3)\n",
    "dataset_old = df.copy()\n",
    "classes = {}\n",
    "for i, win in enumerate(res):\n",
    "    if not classes.get(win[0]):\n",
    "        classes.setdefault(win[0], [i])\n",
    "    else:\n",
    "        classes[win[0]].append(i)"
   ]
  },
  {
   "cell_type": "code",
   "execution_count": 8,
   "metadata": {},
   "outputs": [],
   "source": [
    "import pylab as pl\n",
    "def draw(QQ):\n",
    "    colValue = ['r', 'y', 'g']\n",
    "    for i in range(len(QQ)):\n",
    "        X = []\n",
    "        Y = []\n",
    "        for j in range(len(QQ[i])):\n",
    "            X.append(QQ[i][j][0])\n",
    "            Y.append(QQ[i][j][1])\n",
    "        pl.scatter(X, Y, marker='x', color=colValue[i%len(colValue)], label=i)\n",
    "    pl.legend(loc='upper right')\n",
    "    pl.show()"
   ]
  },
  {
   "cell_type": "code",
   "execution_count": 9,
   "metadata": {},
   "outputs": [
    {
     "data": {
      "image/png": "[encoded data removed]",
      "text/plain": [
       "<Figure size 432x288 with 1 Axes>"
      ]
     },
     "metadata": {
      "needs_background": "light"
     },
     "output_type": "display_data"
    }
   ],
   "source": [
    "N = []\n",
    "for i in classes.values():\n",
    "    N.append(df[i].tolist())\n",
    "draw(N)"
   ]
  },
  {
   "cell_type": "code",
   "execution_count": null,
   "metadata": {},
   "outputs": [],
   "source": []
  },
  {
   "cell_type": "code",
   "execution_count": null,
   "metadata": {},
   "outputs": [],
   "source": []
  },
  {
   "cell_type": "code",
   "execution_count": null,
   "metadata": {},
   "outputs": [],
   "source": []
  }
 ],
 "metadata": {
  "kernelspec": {
   "display_name": "Python 3",
   "language": "python",
   "name": "python3"
  },
  "language_info": {
   "codemirror_mode": {
    "name": "ipython",
    "version": 3
   },
   "file_extension": ".py",
   "mimetype": "text/x-python",
   "name": "python",
   "nbconvert_exporter": "python",
   "pygments_lexer": "ipython3",
   "version": "3.7.3"
  }
 },
 "nbformat": 4,
 "nbformat_minor": 2
}
